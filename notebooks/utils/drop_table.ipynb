{
 "cells": [
  {
   "cell_type": "code",
   "execution_count": 2,
   "id": "b71d13f1-878a-4c13-ae77-90c2cc40965c",
   "metadata": {},
   "outputs": [
    {
     "name": "stdout",
     "output_type": "stream",
     "text": [
      "Connexion à PostgreSQL...\n",
      "Une erreur est survenue lors de la suppression de la table : connection to server at \"postgres\" (172.18.0.2), port 5432 failed: FATAL:  database \"mastodondb\" does not exist\n",
      "\n"
     ]
    },
    {
     "ename": "NameError",
     "evalue": "name 'cursor' is not defined",
     "output_type": "error",
     "traceback": [
      "\u001b[0;31m---------------------------------------------------------------------------\u001b[0m",
      "\u001b[0;31mNameError\u001b[0m                                 Traceback (most recent call last)",
      "Cell \u001b[0;32mIn[2], line 36\u001b[0m\n\u001b[1;32m     32\u001b[0m     \u001b[38;5;28mprint\u001b[39m(\u001b[38;5;124mf\u001b[39m\u001b[38;5;124m\"\u001b[39m\u001b[38;5;124mUne erreur est survenue lors de la suppression de la table : \u001b[39m\u001b[38;5;132;01m{\u001b[39;00me\u001b[38;5;132;01m}\u001b[39;00m\u001b[38;5;124m\"\u001b[39m)\n\u001b[1;32m     34\u001b[0m \u001b[38;5;28;01mfinally\u001b[39;00m:\n\u001b[1;32m     35\u001b[0m     \u001b[38;5;66;03m# Fermer le curseur et la connexion\u001b[39;00m\n\u001b[0;32m---> 36\u001b[0m     \u001b[38;5;28;01mif\u001b[39;00m \u001b[43mcursor\u001b[49m:\n\u001b[1;32m     37\u001b[0m         cursor\u001b[38;5;241m.\u001b[39mclose()\n\u001b[1;32m     38\u001b[0m     \u001b[38;5;28;01mif\u001b[39;00m conn:\n",
      "\u001b[0;31mNameError\u001b[0m: name 'cursor' is not defined"
     ]
    }
   ],
   "source": [
    "import psycopg2\n",
    "import os\n",
    "\n",
    "# Configuration de la connexion à PostgreSQL\n",
    "pg_conf = {\n",
    "    'host': 'postgres',\n",
    "    'port': '5432',\n",
    "    'database': os.getenv('DB_NAME'),\n",
    "    'user': os.getenv('DB_USER'),\n",
    "    'password': os.getenv('DB_PASSWORD')\n",
    "}\n",
    "\n",
    "# Nom de la table à supprimer\n",
    "table_to_drop = 'bronze_mastodon'\n",
    "\n",
    "try:\n",
    "    # Établit une connexion à PostgreSQL\n",
    "    print(\"Connexion à PostgreSQL...\")\n",
    "    conn = psycopg2.connect(**pg_conf)\n",
    "    cursor = conn.cursor()\n",
    "\n",
    "    # Suppression de la table spécifiée si elle existe\n",
    "    print(f\"Suppression de la table '{table_to_drop}' si elle existe...\")\n",
    "    drop_table_query = f\"DROP TABLE IF EXISTS {table_to_drop};\"\n",
    "    cursor.execute(drop_table_query)\n",
    "    \n",
    "    # Valide la transaction\n",
    "    conn.commit()\n",
    "    print(f\"Table '{table_to_drop}' supprimée avec succès.\")\n",
    "\n",
    "except Exception as e:\n",
    "    print(f\"Une erreur est survenue lors de la suppression de la table : {e}\")\n",
    "\n",
    "finally:\n",
    "    # Ferme le curseur et la connexion\n",
    "    if cursor:\n",
    "        cursor.close()\n",
    "    if conn:\n",
    "        conn.close()\n",
    "    print(\"Connexion à PostgreSQL fermée.\")"
   ]
  },
  {
   "cell_type": "code",
   "execution_count": null,
   "id": "f8e01196-844d-47d2-8cc3-b7b2d74c91f9",
   "metadata": {},
   "outputs": [],
   "source": []
  },
  {
   "cell_type": "code",
   "execution_count": null,
   "id": "059dec18-176b-41c5-aa03-0bc6a4a702e3",
   "metadata": {},
   "outputs": [],
   "source": []
  }
 ],
 "metadata": {
  "kernelspec": {
   "display_name": "Python 3 (ipykernel)",
   "language": "python",
   "name": "python3"
  },
  "language_info": {
   "codemirror_mode": {
    "name": "ipython",
    "version": 3
   },
   "file_extension": ".py",
   "mimetype": "text/x-python",
   "name": "python",
   "nbconvert_exporter": "python",
   "pygments_lexer": "ipython3",
   "version": "3.11.6"
  }
 },
 "nbformat": 4,
 "nbformat_minor": 5
}
