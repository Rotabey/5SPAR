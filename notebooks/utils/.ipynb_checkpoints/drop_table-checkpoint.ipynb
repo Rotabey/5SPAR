{
 "cells": [
  {
   "cell_type": "code",
   "execution_count": 1,
   "id": "b71d13f1-878a-4c13-ae77-90c2cc40965c",
   "metadata": {},
   "outputs": [
    {
     "name": "stdout",
     "output_type": "stream",
     "text": [
      "Connexion à PostgreSQL...\n",
      "Suppression de la table 'bronze_mastodon' si elle existe...\n",
      "Table 'bronze_mastodon' supprimée avec succès.\n",
      "Connexion à PostgreSQL fermée.\n"
     ]
    }
   ],
   "source": [
    "import psycopg2\n",
    "\n",
    "# Configuration de la connexion à PostgreSQL\n",
    "pg_conf = {\n",
    "    'host': 'postgres',  # ou 'localhost' si vous ne l'exécutez pas dans Docker\n",
    "    'port': '5432',\n",
    "    'database': 'mastodondb',\n",
    "    'user': '',\n",
    "    'password': ''\n",
    "}\n",
    "\n",
    "# Nom de la table à supprimer\n",
    "table_to_drop = 'bronze_mastodon'  # Changez cette variable pour supprimer une autre table\n",
    "\n",
    "try:\n",
    "    # Établir une connexion à PostgreSQL\n",
    "    print(\"Connexion à PostgreSQL...\")\n",
    "    conn = psycopg2.connect(**pg_conf)\n",
    "    cursor = conn.cursor()\n",
    "\n",
    "    # Suppression de la table spécifiée si elle existe\n",
    "    print(f\"Suppression de la table '{table_to_drop}' si elle existe...\")\n",
    "    drop_table_query = f\"DROP TABLE IF EXISTS {table_to_drop};\"\n",
    "    cursor.execute(drop_table_query)\n",
    "    \n",
    "    # Valider la transaction\n",
    "    conn.commit()\n",
    "    print(f\"Table '{table_to_drop}' supprimée avec succès.\")\n",
    "\n",
    "except Exception as e:\n",
    "    print(f\"Une erreur est survenue lors de la suppression de la table : {e}\")\n",
    "\n",
    "finally:\n",
    "    # Fermer le curseur et la connexion\n",
    "    if cursor:\n",
    "        cursor.close()\n",
    "    if conn:\n",
    "        conn.close()\n",
    "    print(\"Connexion à PostgreSQL fermée.\")"
   ]
  },
  {
   "cell_type": "code",
   "execution_count": null,
   "id": "f8e01196-844d-47d2-8cc3-b7b2d74c91f9",
   "metadata": {},
   "outputs": [],
   "source": []
  },
  {
   "cell_type": "code",
   "execution_count": null,
   "id": "059dec18-176b-41c5-aa03-0bc6a4a702e3",
   "metadata": {},
   "outputs": [],
   "source": []
  }
 ],
 "metadata": {
  "kernelspec": {
   "display_name": "Python 3 (ipykernel)",
   "language": "python",
   "name": "python3"
  },
  "language_info": {
   "codemirror_mode": {
    "name": "ipython",
    "version": 3
   },
   "file_extension": ".py",
   "mimetype": "text/x-python",
   "name": "python",
   "nbconvert_exporter": "python",
   "pygments_lexer": "ipython3",
   "version": "3.11.6"
  }
 },
 "nbformat": 4,
 "nbformat_minor": 5
}
