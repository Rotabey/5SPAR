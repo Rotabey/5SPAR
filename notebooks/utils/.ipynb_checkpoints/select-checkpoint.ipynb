{
 "cells": [
  {
   "cell_type": "code",
   "execution_count": 4,
   "id": "b1f916fa-f0a0-4607-a6e4-6afe0738251f",
   "metadata": {},
   "outputs": [
    {
     "name": "stdout",
     "output_type": "stream",
     "text": [
      "Schéma du DataFrame récupéré:\n",
      "root\n",
      " |-- author: string (nullable = true)\n",
      " |-- content: string (nullable = true)\n",
      " |-- country: string (nullable = true)\n",
      " |-- date_time: string (nullable = true)\n",
      " |-- id: string (nullable = true)\n",
      " |-- language: string (nullable = true)\n",
      " |-- latitude: string (nullable = true)\n",
      " |-- longitude: string (nullable = true)\n",
      " |-- number_of_likes: string (nullable = true)\n",
      " |-- number_of_shares: string (nullable = true)\n",
      " |-- timestamp: timestamp (nullable = true)\n",
      "\n",
      "Données récupérées:\n",
      "+---------+--------------------+-------+----------------+-----------+--------+--------+---------+---------------+----------------+---------+\n",
      "|   author|             content|country|       date_time|         id|language|latitude|longitude|number_of_likes|number_of_shares|timestamp|\n",
      "+---------+--------------------+-------+----------------+-----------+--------+--------+---------+---------------+----------------+---------+\n",
      "|katyperry|Is history repeat...|   NULL|12/01/2017 19:52|8.19633E+17|      en|    NULL|     NULL|           7900|            3472|     NULL|\n",
      "|katyperry|@barackobama Than...|   NULL|11/01/2017 08:38|8.19101E+17|      en|    NULL|     NULL|           3689|            1380|     NULL|\n",
      "|katyperry|Life goals. https...|   NULL|11/01/2017 02:52|8.19014E+17|      en|    NULL|     NULL|          10341|            2387|     NULL|\n",
      "|katyperry|Me right now 🙏🏻...|   NULL|11/01/2017 02:44|8.19012E+17|      en|    NULL|     NULL|          10774|            2458|     NULL|\n",
      "|katyperry|SISTERS ARE DOIN'...|   NULL|10/01/2017 05:22|8.18689E+17|      en|    NULL|     NULL|          17620|            4655|     NULL|\n",
      "|katyperry|happy 96th gma #f...|   NULL|09/01/2017 01:00|8.18261E+17|      en|    NULL|     NULL|           8242|            2164|     NULL|\n",
      "|katyperry|2017 resolution: ...|   NULL|01/01/2017 03:31|  8.154E+17|      en|    NULL|     NULL|          23662|            8430|     NULL|\n",
      "|katyperry|sisters. https://...|   NULL|27/12/2016 04:04|8.13596E+17|      en|    NULL|     NULL|           9324|            2637|     NULL|\n",
      "|katyperry|Happy Holidays! S...|   NULL|25/12/2016 20:35|8.13121E+17|      en|    NULL|     NULL|          23205|            7419|     NULL|\n",
      "|katyperry|Damn, it's hard t...|   NULL|25/12/2016 05:45|8.12897E+17|      en|    NULL|     NULL|          20410|            5042|     NULL|\n",
      "|katyperry|When my whole fam...|   NULL|24/12/2016 16:26|8.12696E+17|      en|    NULL|     NULL|           8608|            2183|     NULL|\n",
      "|katyperry|When your holiday...|   NULL|23/12/2016 18:42|8.12368E+17|      en|    NULL|     NULL|           6713|            1948|     NULL|\n",
      "|katyperry|@shannonwoodward ...|   NULL|23/12/2016 02:22|8.12121E+17|      en|    NULL|     NULL|           2541|             849|     NULL|\n",
      "|katyperry|This week Santa a...|   NULL|21/12/2016 23:05|8.11709E+17|      en|    NULL|     NULL|           8592|            2305|     NULL|\n",
      "|katyperry|Love the music th...|   NULL|21/12/2016 22:42|8.11703E+17|      en|    NULL|     NULL|          11266|            3064|     NULL|\n",
      "|katyperry|For real tho http...|   NULL|16/12/2016 08:24|8.09676E+17|      en|    NULL|     NULL|          12059|            3589|     NULL|\n",
      "|katyperry|I can't wait to r...|   NULL|07/12/2016 09:03|8.06424E+17|      en|    NULL|     NULL|           8985|            2446|     NULL|\n",
      "|katyperry|I wanna adopt him...|   NULL|07/12/2016 02:35|8.06326E+17|      en|    NULL|     NULL|           6745|            1868|     NULL|\n",
      "|katyperry|@jessesaintjohn i...|   NULL|06/12/2016 09:56|8.06075E+17|      en|    NULL|     NULL|           2527|             819|     NULL|\n",
      "|katyperry|@jessesaintjohn @...|   NULL|06/12/2016 09:54|8.06074E+17|      en|    NULL|     NULL|           2356|             795|     NULL|\n",
      "+---------+--------------------+-------+----------------+-----------+--------+--------+---------+---------------+----------------+---------+\n",
      "only showing top 20 rows\n",
      "\n"
     ]
    }
   ],
   "source": [
    "from pyspark.sql import SparkSession\n",
    "\n",
    "# Créer une session Spark\n",
    "spark = SparkSession.builder \\\n",
    "    .appName(\"Retrieve Data from PostgreSQL\") \\\n",
    "    .getOrCreate()\n",
    "\n",
    "# Configurer les paramètres de connexion à PostgreSQL\n",
    "postgres_url = \"jdbc:postgresql://postgres:5432/twitterdb\"\n",
    "properties = {\n",
    "    \"user\": \"fadi\",\n",
    "    \"password\": \"fadi\",\n",
    "    \"driver\": \"org.postgresql.Driver\"\n",
    "}\n",
    "\n",
    "# Lire les données depuis PostgreSQL\n",
    "df_retrieved = spark.read.jdbc(url=postgres_url, table=\"X_TWEET\", properties=properties)\n",
    "\n",
    "# Afficher les schémas et les données récupérées\n",
    "print(\"Schéma du DataFrame récupéré:\")\n",
    "df_retrieved.printSchema()\n",
    "print(\"Données récupérées:\")\n",
    "df_retrieved.show()\n",
    "\n",
    "# Optionnel : traiter les données récupérées si nécessaire\n",
    "# df_retrieved.show(truncate=False)  # Pour afficher toutes les colonnes sans troncature"
   ]
  },
  {
   "cell_type": "code",
   "execution_count": null,
   "id": "1015cf15-2605-4ff4-a5ea-f31e5c59deb9",
   "metadata": {},
   "outputs": [],
   "source": []
  }
 ],
 "metadata": {
  "kernelspec": {
   "display_name": "Python 3 (ipykernel)",
   "language": "python",
   "name": "python3"
  },
  "language_info": {
   "codemirror_mode": {
    "name": "ipython",
    "version": 3
   },
   "file_extension": ".py",
   "mimetype": "text/x-python",
   "name": "python",
   "nbconvert_exporter": "python",
   "pygments_lexer": "ipython3",
   "version": "3.11.6"
  }
 },
 "nbformat": 4,
 "nbformat_minor": 5
}
